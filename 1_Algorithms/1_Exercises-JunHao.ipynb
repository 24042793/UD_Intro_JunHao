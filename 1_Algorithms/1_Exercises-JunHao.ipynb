{
 "cells": [
  {
   "cell_type": "markdown",
   "id": "38e188a5",
   "metadata": {},
   "source": [
    "# Exercise 00\n",
    "Write a piece of code that allocates a list of 20 integers and initializes each element by its index multiplied by 5. Print the result."
   ]
  },
  {
   "cell_type": "code",
   "execution_count": 2,
   "id": "01aa4f35",
   "metadata": {},
   "outputs": [],
   "source": [
    "myList = []\n",
    "for i in range(20):\n",
    "    myList.append(i*5)"
   ]
  },
  {
   "cell_type": "code",
   "execution_count": 3,
   "id": "c33fdeda-3707-481a-8468-eba9589fca19",
   "metadata": {},
   "outputs": [
    {
     "data": {
      "text/plain": [
       "[0, 5, 10, 15, 20, 25, 30, 35, 40, 45, 50, 55, 60, 65, 70, 75, 80, 85, 90, 95]"
      ]
     },
     "execution_count": 3,
     "metadata": {},
     "output_type": "execute_result"
    }
   ],
   "source": [
    "myList"
   ]
  },
  {
   "cell_type": "markdown",
   "id": "529d91ae",
   "metadata": {},
   "source": [
    "# Exercise 01\n",
    "Define a function that takes an integer as input, prints  all integers that it is divisable by, and returns the largest one."
   ]
  },
  {
   "cell_type": "code",
   "execution_count": 14,
   "id": "30e79132",
   "metadata": {},
   "outputs": [],
   "source": [
    "def dividers(n):\n",
    "    div = 1\n",
    "    for i in range(1,int(n+1)):\n",
    "        if n%i==0:\n",
    "            div = i\n",
    "            print(i)\n",
    "    return div"
   ]
  },
  {
   "cell_type": "code",
   "execution_count": 15,
   "id": "b7763cac-7298-40ed-bfe6-e365240552a7",
   "metadata": {},
   "outputs": [
    {
     "name": "stdout",
     "output_type": "stream",
     "text": [
      "1\n",
      "2\n",
      "4\n",
      "5\n",
      "10\n",
      "20\n"
     ]
    },
    {
     "data": {
      "text/plain": [
       "20"
      ]
     },
     "execution_count": 15,
     "metadata": {},
     "output_type": "execute_result"
    }
   ],
   "source": [
    "dividers(20)"
   ]
  },
  {
   "cell_type": "markdown",
   "id": "cfbe30d4",
   "metadata": {},
   "source": [
    "# Exercise 02\n",
    "- create a dictionary with 6 keys and values of your choice\n",
    "- write a function that takes a dictionary and a value as input and returns whether the value occurs as a key in the dictionary\n",
    "- write a function that takes a dictionary as input, and returns the dictionary but the keys are swapped with their values (resolve the issue if a value occurs twice!)"
   ]
  },
  {
   "cell_type": "code",
   "execution_count": 20,
   "id": "2123f1c6",
   "metadata": {},
   "outputs": [],
   "source": [
    "fruit = {\n",
    "    'mango':'yellow',\n",
    "    'apple':'red',\n",
    "    'kiwi':'brown',\n",
    "    'grape':'purple',\n",
    "    'watermelon':'green',\n",
    "    'orange':'orange'}"
   ]
  },
  {
   "cell_type": "code",
   "execution_count": 21,
   "id": "c2aa2224-e19f-466b-bf8d-9614dacc0cd1",
   "metadata": {},
   "outputs": [
    {
     "name": "stdout",
     "output_type": "stream",
     "text": [
      "{'mango': 'yellow', 'apple': 'red', 'kiwi': 'brown', 'grape': 'purple', 'watermelon': 'green', 'orange': 'orange'}\n"
     ]
    }
   ],
   "source": [
    "print(fruit)"
   ]
  },
  {
   "cell_type": "code",
   "execution_count": 57,
   "id": "2439eacd-10b0-47b3-acba-567980baa199",
   "metadata": {},
   "outputs": [],
   "source": [
    "def inDictionary(fruit_dict, value):\n",
    "    return value in fruit_dict.keys()"
   ]
  },
  {
   "cell_type": "code",
   "execution_count": 58,
   "id": "8b06254f-27b0-4251-978a-6d1b32981d22",
   "metadata": {},
   "outputs": [
    {
     "ename": "AttributeError",
     "evalue": "'function' object has no attribute 'keys'",
     "output_type": "error",
     "traceback": [
      "\u001b[1;31m---------------------------------------------------------------------------\u001b[0m",
      "\u001b[1;31mAttributeError\u001b[0m                            Traceback (most recent call last)",
      "Cell \u001b[1;32mIn[58], line 1\u001b[0m\n\u001b[1;32m----> 1\u001b[0m \u001b[38;5;28mprint\u001b[39m(\u001b[43minDictionary\u001b[49m\u001b[43m(\u001b[49m\u001b[43mfruit\u001b[49m\u001b[43m,\u001b[49m\u001b[43m \u001b[49m\u001b[38;5;124;43m'\u001b[39;49m\u001b[38;5;124;43mmango\u001b[39;49m\u001b[38;5;124;43m'\u001b[39;49m\u001b[43m)\u001b[49m)\n",
      "Cell \u001b[1;32mIn[57], line 2\u001b[0m, in \u001b[0;36minDictionary\u001b[1;34m(fruit_dict, value)\u001b[0m\n\u001b[0;32m      1\u001b[0m \u001b[38;5;28;01mdef\u001b[39;00m \u001b[38;5;21minDictionary\u001b[39m(fruit_dict, value):\n\u001b[1;32m----> 2\u001b[0m     \u001b[38;5;28;01mreturn\u001b[39;00m value \u001b[38;5;129;01min\u001b[39;00m \u001b[43mfruit\u001b[49m\u001b[38;5;241;43m.\u001b[39;49m\u001b[43mkeys\u001b[49m()\n",
      "\u001b[1;31mAttributeError\u001b[0m: 'function' object has no attribute 'keys'"
     ]
    }
   ],
   "source": [
    "print(inDictionary(fruit, 'mango'))"
   ]
  },
  {
   "cell_type": "markdown",
   "id": "b4b4e426",
   "metadata": {},
   "source": [
    "# Exercise 03\n",
    "Define a function that creates a dictionary of the first n fibonacci numbers as values paired with their indices as keys. "
   ]
  },
  {
   "cell_type": "code",
   "execution_count": 64,
   "id": "7845b5a4",
   "metadata": {},
   "outputs": [],
   "source": [
    "def fibonacciDict(n):\n",
    "    fibonacci = {}\n",
    "    v1 = 0\n",
    "    v2 = 1\n",
    "    for i in range(n):\n",
    "        fibonacci[i]=v1\n",
    "        t = v1 + v2\n",
    "        v1 = v2\n",
    "        v2 = t\n",
    "    return fibonacci"
   ]
  },
  {
   "cell_type": "code",
   "execution_count": 66,
   "id": "33b81706-6ff8-42a5-824b-334a7bb2dd51",
   "metadata": {},
   "outputs": [
    {
     "data": {
      "text/plain": [
       "{0: 0,\n",
       " 1: 1,\n",
       " 2: 1,\n",
       " 3: 2,\n",
       " 4: 3,\n",
       " 5: 5,\n",
       " 6: 8,\n",
       " 7: 13,\n",
       " 8: 21,\n",
       " 9: 34,\n",
       " 10: 55,\n",
       " 11: 89,\n",
       " 12: 144,\n",
       " 13: 233,\n",
       " 14: 377,\n",
       " 15: 610,\n",
       " 16: 987,\n",
       " 17: 1597,\n",
       " 18: 2584,\n",
       " 19: 4181}"
      ]
     },
     "execution_count": 66,
     "metadata": {},
     "output_type": "execute_result"
    }
   ],
   "source": [
    "fibonacciDict(20)"
   ]
  },
  {
   "cell_type": "code",
   "execution_count": null,
   "id": "3fb5f33b-2f50-43e1-8982-2b3f39f8fe30",
   "metadata": {},
   "outputs": [],
   "source": []
  }
 ],
 "metadata": {
  "kernelspec": {
   "display_name": "Python 3 (ipykernel)",
   "language": "python",
   "name": "python3"
  },
  "language_info": {
   "codemirror_mode": {
    "name": "ipython",
    "version": 3
   },
   "file_extension": ".py",
   "mimetype": "text/x-python",
   "name": "python",
   "nbconvert_exporter": "python",
   "pygments_lexer": "ipython3",
   "version": "3.8.20"
  }
 },
 "nbformat": 4,
 "nbformat_minor": 5
}
